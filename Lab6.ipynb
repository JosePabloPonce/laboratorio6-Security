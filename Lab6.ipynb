{
  "metadata": {
    "language_info": {
      "codemirror_mode": {
        "name": "python",
        "version": 3
      },
      "file_extension": ".py",
      "mimetype": "text/x-python",
      "name": "python",
      "nbconvert_exporter": "python",
      "pygments_lexer": "ipython3",
      "version": "3.8"
    },
    "kernelspec": {
      "name": "python",
      "display_name": "Python (Pyodide)",
      "language": "python"
    }
  },
  "nbformat_minor": 4,
  "nbformat": 4,
  "cells": [
    {
      "cell_type": "code",
      "source": "#Universidad del Valle de Guatemala\n#Fernando Garavito \n#Jose Ponce\n#Gabriel Quiroz",
      "metadata": {},
      "execution_count": null,
      "outputs": []
    },
    {
      "cell_type": "code",
      "source": "import pandas as pd\nimport numpy as np\nimport matplotlib.pyplot as plt\nimport os\nimport cv2\nimport PIL",
      "metadata": {
        "trusted": true
      },
      "execution_count": 2,
      "outputs": []
    },
    {
      "cell_type": "code",
      "source": "def load(image_path):\n    img = tf.io.read_file(image_path)\n    img = tf.image.decode_jpeg(img, channels=3)\n    img = tf.image.resize(img, [256, 256])\n    img = tf.cast(img, tf.float32)\n    img = img / 127.0 - 1\n    return img\n\ndef load_image(image_path):\n    img = cv2.imread(image_path)\n    img = cv2.resize(img, (256, 256))\n    img = cv2.cvtColor(img, cv2.COLOR_BGR2RGB)\n    img = img / 127.0 - 1\n    return img",
      "metadata": {
        "trusted": true
      },
      "execution_count": 4,
      "outputs": []
    },
    {
      "cell_type": "code",
      "source": "countimages = len(list(pathlib.Path('./malimg_paper_dataset_imgs').glob('*/*.png')))\nprint(countimages)",
      "metadata": {},
      "execution_count": null,
      "outputs": []
    }
  ]
}